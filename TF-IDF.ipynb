{
 "cells": [
  {
   "cell_type": "markdown",
   "id": "62247657-97f1-4e2d-b194-f182adf3fa31",
   "metadata": {},
   "source": [
    "# Relevance (Manual) Calculation using TF-IDF\n",
    "\n",
    "We have three documents and a query. We’ll use TF-IDF to measure how relevant each document is to the query by calculating the term frequency-inverse document frequency for each term.\n",
    "\n",
    "## Documents and Query\n",
    "\n",
    "**Documents:**\n",
    "1. \"Machine learning is a subset of artificial intelligence.\"\n",
    "2. \"Deep learning is a type of machine learning.\"\n",
    "3. \"Natural language processing is used in AI applications.\"\n",
    "\n",
    "**Query:**  \n",
    "\"Tell me about machine learning.\"\n",
    "\n",
    "## Step 1: Preprocess Text\n",
    "\n",
    "To simplify, we’ll remove common stopwords (such as \"is,\" \"a,\" \"of,\" etc.) and focus on meaningful terms.\n",
    "\n",
    "After preprocessing, we have:\n",
    "\n",
    "- **Document 1**: `[\"machine\", \"learning\", \"subset\", \"artificial\", \"intelligence\"]`\n",
    "- **Document 2**: `[\"deep\", \"learning\", \"type\", \"machine\", \"learning\"]`\n",
    "- **Document 3**: `[\"natural\", \"language\", \"processing\", \"used\", \"AI\", \"applications\"]`\n",
    "- **Query**: `[\"tell\", \"machine\", \"learning\"]`\n",
    "\n",
    "## Step 2: Calculate Term Frequencies (TF)\n",
    "\n",
    "The **TF** of a term in a document is the number of times the term appears in the document divided by the total number of terms in that document.\n",
    "\n",
    "| Term          | Doc 1 TF                  | Doc 2 TF                  | Doc 3 TF                  | Query TF                |\n",
    "|---------------|---------------------------|---------------------------|---------------------------|--------------------------|\n",
    "| machine       | 1/5 = 0.20                | 1/5 = 0.20                | 0                         | 1/3 = 0.33               |\n",
    "| learning      | 1/5 = 0.20                | 2/5 = 0.40                | 0                         | 1/3 = 0.33               |\n",
    "| subset        | 1/5 = 0.20                | 0                         | 0                         | 0                        |\n",
    "| artificial    | 1/5 = 0.20                | 0                         | 0                         | 0                        |\n",
    "| intelligence  | 1/5 = 0.20                | 0                         | 0                         | 0                        |\n",
    "| deep          | 0                         | 1/5 = 0.20                | 0                         | 0                        |\n",
    "| type          | 0                         | 1/5 = 0.20                | 0                         | 0                        |\n",
    "| natural       | 0                         | 0                         | 1/6 ≈ 0.17               | 0                        |\n",
    "| language      | 0                         | 0                         | 1/6 ≈ 0.17               | 0                        |\n",
    "| processing    | 0                         | 0                         | 1/6 ≈ 0.17               | 0                        |\n",
    "| used          | 0                         | 0                         | 1/6 ≈ 0.17               | 0                        |\n",
    "| AI            | 0                         | 0                         | 1/6 ≈ 0.17               | 0                        |\n",
    "| applications  | 0                         | 0                         | 1/6 ≈ 0.17               | 0                        |\n",
    "| tell          | 0                         | 0                         | 0                         | 1/3 = 0.33               |\n",
    "| me            | 0                         | 0                         | 0                         | 1/3 = 0.33               |\n",
    "| about         | 0                         | 0                         | 0                         | 1/3 = 0.33               |\n",
    "\n",
    "## Step 3: Calculate Inverse Document Frequency (IDF)\n",
    "\n",
    "The **IDF** of each term is calculated as:\n",
    "$$\\text{IDF} = \\log \\left( \\frac{N + 1}{\\text{DF} + 1} \\right) + 1$$\n",
    "Where:\n",
    "N is the total number of documents.\n",
    "DF is the number of documents containing the term.\r\n",
    "\r\n",
    "\n",
    "\n",
    "Using this formula, we get the following IDF values:\n",
    "\n",
    "| Term          | DF (Documents with Term) | IDF                      |\n",
    "|---------------|--------------------------|---------------------------|\n",
    "| machine       | 2                        | log((3 + 1) / (2 + 1)) + 1 ≈ 1.13 |\n",
    "| learning      | 2                        | log((3 + 1) / (2 + 1)) + 1 ≈ 1.13 |\n",
    "| subset        | 1                        | log((3 + 1) / (1 + 1)) + 1 ≈ 1.69 |\n",
    "| artificial    | 1                        | log((3 + 1) / (1 + 1)) + 1 ≈ 1.69 |\n",
    "| intelligence  | 1                        | log((3 + 1) / (1 + 1)) + 1 ≈ 1.69 |\n",
    "| deep          | 1                        | log((3 + 1) / (1 + 1)) + 1 ≈ 1.69 |\n",
    "| type          | 1                        | log((3 + 1) / (1 + 1)) + 1 ≈ 1.69 |\n",
    "| natural       | 1                        | log((3 + 1) / (1 + 1)) + 1 ≈ 1.69 |\n",
    "| language      | 1                        | log((3 + 1) / (1 + 1)) + 1 ≈ 1.69 |\n",
    "| processing    | 1                        | log((3 + 1) / (1 + 1)) + 1 ≈ 1.69 |\n",
    "| used          | 1                        | log((3 + 1) / (1 + 1)) + 1 ≈ 1.69 |\n",
    "| AI            | 1                        | log((3 + 1) / (1 + 1)) + 1 ≈ 1.69 |\n",
    "| applications  | 1                        | log((3 + 1) / (1 + 1)) + 1 ≈ 1.69 |\n",
    "| tell          | 0                        | log((3 + 1) / (0 + 1)) + 1 ≈ 2.39 |\n",
    "| me            | 0                        | log((3 + 1) / (0 + 1)) + 1 ≈ 2.39 |\n",
    "| about         | 0                        | log((3 + 1) / (0 + 1)) + 1 ≈ 2.39 |\n",
    "\n",
    "## Step 4: Calculate TF-IDF for Each Term\n",
    "\n",
    "For each term in each document, multiply the TF values by the corresponding IDF values to get the **TF-IDF** scores.\n",
    "\n",
    "## Step 5: Measure Similarity with Cosine Similarity\n",
    "\n",
    "Once we have the TF-IDF vectors for each document and the query, we can calculate the cosine similarity between the query vector and each document vector. The document with the highest similarity score will be the most relevant to the query.\n"
   ]
  },
  {
   "cell_type": "code",
   "execution_count": 1,
   "id": "4f9253a6-3dd5-4507-b866-3002e6b9294d",
   "metadata": {},
   "outputs": [],
   "source": [
    "from sklearn.feature_extraction.text import TfidfVectorizer\n",
    "from sklearn.metrics.pairwise import cosine_similarity"
   ]
  },
  {
   "cell_type": "code",
   "execution_count": 2,
   "id": "47c6342a-d537-4a9e-af04-524d5f5299e5",
   "metadata": {},
   "outputs": [],
   "source": [
    "\n",
    "documents = [\n",
    "    \"Machine learning is a subset of artificial intelligence.\",\n",
    "    \"Deep learning is a type of machine learning.\",\n",
    "    \"Natural language processing is used in AI applications.\",\n",
    "]\n"
   ]
  },
  {
   "cell_type": "code",
   "execution_count": 3,
   "id": "23936e2a-702d-4c1d-8118-2d255c0f65b2",
   "metadata": {},
   "outputs": [],
   "source": [
    "# User query\n",
    "query = \"Tell me about machine learning.\"\n"
   ]
  },
  {
   "cell_type": "code",
   "execution_count": 4,
   "id": "830b92f7-4dec-4d3e-8cbb-5da8ff76001f",
   "metadata": {},
   "outputs": [],
   "source": [
    "tfidf_vectorizer = TfidfVectorizer()\n",
    "tfidf_matrix = tfidf_vectorizer.fit_transform([query] + documents)\n",
    "\n",
    "# Calculate cosine similarity between the query and documents\n",
    "cosine_similarities = cosine_similarity(tfidf_matrix[0:1], tfidf_matrix[1:]).flatten()\n",
    "\n",
    "# Sort documents by similarity score\n",
    "most_similar_document = documents[cosine_similarities.argmax()]\n"
   ]
  },
  {
   "cell_type": "code",
   "execution_count": 5,
   "id": "8fc374bf-445b-4d53-a2e2-ebf3dfdf55fe",
   "metadata": {},
   "outputs": [
    {
     "name": "stdout",
     "output_type": "stream",
     "text": [
      "Most Relevant Document: Deep learning is a type of machine learning.\n"
     ]
    }
   ],
   "source": [
    "# Print the most relevant document\n",
    "print(\"Most Relevant Document:\", most_similar_document)"
   ]
  },
  {
   "cell_type": "code",
   "execution_count": null,
   "id": "c2fa3748-5dc0-4944-92db-a61459754c0f",
   "metadata": {},
   "outputs": [],
   "source": []
  }
 ],
 "metadata": {
  "kernelspec": {
   "display_name": "Python 3 (ipykernel)",
   "language": "python",
   "name": "python3"
  },
  "language_info": {
   "codemirror_mode": {
    "name": "ipython",
    "version": 3
   },
   "file_extension": ".py",
   "mimetype": "text/x-python",
   "name": "python",
   "nbconvert_exporter": "python",
   "pygments_lexer": "ipython3",
   "version": "3.12.4"
  }
 },
 "nbformat": 4,
 "nbformat_minor": 5
}
